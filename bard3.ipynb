{
 "cells": [
  {
   "cell_type": "code",
   "execution_count": 1,
   "id": "0a79331e",
   "metadata": {
    "scrolled": true
   },
   "outputs": [
    {
     "name": "stdout",
     "output_type": "stream",
     "text": [
      "Requirement already satisfied: bardapi in c:\\users\\gayatri\\anaconda3\\lib\\site-packages (0.1.38)\n",
      "Requirement already satisfied: httpx[http2]>=0.20.0 in c:\\users\\gayatri\\anaconda3\\lib\\site-packages (from bardapi) (0.26.0)\n",
      "Requirement already satisfied: requests in c:\\users\\gayatri\\anaconda3\\lib\\site-packages (from bardapi) (2.31.0)\n",
      "Requirement already satisfied: deep-translator in c:\\users\\gayatri\\anaconda3\\lib\\site-packages (from bardapi) (1.11.4)\n",
      "Requirement already satisfied: colorama in c:\\users\\gayatri\\anaconda3\\lib\\site-packages (from bardapi) (0.4.6)\n",
      "Requirement already satisfied: google-cloud-translate in c:\\users\\gayatri\\anaconda3\\lib\\site-packages (from bardapi) (3.13.0)\n",
      "Requirement already satisfied: browser-cookie3 in c:\\users\\gayatri\\anaconda3\\lib\\site-packages (from bardapi) (0.19.1)\n",
      "Requirement already satisfied: langdetect in c:\\users\\gayatri\\anaconda3\\lib\\site-packages (from bardapi) (1.0.9)\n",
      "Requirement already satisfied: anyio in c:\\users\\gayatri\\anaconda3\\lib\\site-packages (from httpx[http2]>=0.20.0->bardapi) (3.5.0)\n",
      "Requirement already satisfied: certifi in c:\\users\\gayatri\\anaconda3\\lib\\site-packages (from httpx[http2]>=0.20.0->bardapi) (2023.7.22)\n",
      "Requirement already satisfied: httpcore==1.* in c:\\users\\gayatri\\anaconda3\\lib\\site-packages (from httpx[http2]>=0.20.0->bardapi) (1.0.2)\n",
      "Requirement already satisfied: idna in c:\\users\\gayatri\\anaconda3\\lib\\site-packages (from httpx[http2]>=0.20.0->bardapi) (3.4)\n",
      "Requirement already satisfied: sniffio in c:\\users\\gayatri\\anaconda3\\lib\\site-packages (from httpx[http2]>=0.20.0->bardapi) (1.2.0)\n",
      "Requirement already satisfied: h2<5,>=3 in c:\\users\\gayatri\\anaconda3\\lib\\site-packages (from httpx[http2]>=0.20.0->bardapi) (4.1.0)\n",
      "Requirement already satisfied: h11<0.15,>=0.13 in c:\\users\\gayatri\\anaconda3\\lib\\site-packages (from httpcore==1.*->httpx[http2]>=0.20.0->bardapi) (0.14.0)\n",
      "Requirement already satisfied: lz4 in c:\\users\\gayatri\\anaconda3\\lib\\site-packages (from browser-cookie3->bardapi) (4.3.2)\n",
      "Requirement already satisfied: pycryptodomex in c:\\users\\gayatri\\anaconda3\\lib\\site-packages (from browser-cookie3->bardapi) (3.19.1)\n",
      "Requirement already satisfied: beautifulsoup4<5.0.0,>=4.9.1 in c:\\users\\gayatri\\anaconda3\\lib\\site-packages (from deep-translator->bardapi) (4.12.2)\n",
      "Requirement already satisfied: charset-normalizer<4,>=2 in c:\\users\\gayatri\\anaconda3\\lib\\site-packages (from requests->bardapi) (2.0.4)\n",
      "Requirement already satisfied: urllib3<3,>=1.21.1 in c:\\users\\gayatri\\anaconda3\\lib\\site-packages (from requests->bardapi) (1.26.16)\n",
      "Requirement already satisfied: google-api-core[grpc]!=2.0.*,!=2.1.*,!=2.10.*,!=2.2.*,!=2.3.*,!=2.4.*,!=2.5.*,!=2.6.*,!=2.7.*,!=2.8.*,!=2.9.*,<3.0.0dev,>=1.34.0 in c:\\users\\gayatri\\anaconda3\\lib\\site-packages (from google-cloud-translate->bardapi) (2.15.0)\n",
      "Requirement already satisfied: google-cloud-core<3.0.0dev,>=1.4.4 in c:\\users\\gayatri\\anaconda3\\lib\\site-packages (from google-cloud-translate->bardapi) (2.4.1)\n",
      "Requirement already satisfied: proto-plus<2.0.0dev,>=1.22.3 in c:\\users\\gayatri\\anaconda3\\lib\\site-packages (from google-cloud-translate->bardapi) (1.23.0)\n",
      "Requirement already satisfied: protobuf!=3.20.0,!=3.20.1,!=4.21.0,!=4.21.1,!=4.21.2,!=4.21.3,!=4.21.4,!=4.21.5,<5.0.0dev,>=3.19.5 in c:\\users\\gayatri\\anaconda3\\lib\\site-packages (from google-cloud-translate->bardapi) (4.25.1)\n",
      "Requirement already satisfied: six in c:\\users\\gayatri\\anaconda3\\lib\\site-packages (from langdetect->bardapi) (1.16.0)\n",
      "Requirement already satisfied: soupsieve>1.2 in c:\\users\\gayatri\\anaconda3\\lib\\site-packages (from beautifulsoup4<5.0.0,>=4.9.1->deep-translator->bardapi) (2.4)\n",
      "Requirement already satisfied: googleapis-common-protos<2.0.dev0,>=1.56.2 in c:\\users\\gayatri\\anaconda3\\lib\\site-packages (from google-api-core[grpc]!=2.0.*,!=2.1.*,!=2.10.*,!=2.2.*,!=2.3.*,!=2.4.*,!=2.5.*,!=2.6.*,!=2.7.*,!=2.8.*,!=2.9.*,<3.0.0dev,>=1.34.0->google-cloud-translate->bardapi) (1.62.0)\n",
      "Requirement already satisfied: google-auth<3.0.dev0,>=2.14.1 in c:\\users\\gayatri\\anaconda3\\lib\\site-packages (from google-api-core[grpc]!=2.0.*,!=2.1.*,!=2.10.*,!=2.2.*,!=2.3.*,!=2.4.*,!=2.5.*,!=2.6.*,!=2.7.*,!=2.8.*,!=2.9.*,<3.0.0dev,>=1.34.0->google-cloud-translate->bardapi) (2.26.0)\n",
      "Requirement already satisfied: grpcio<2.0dev,>=1.33.2 in c:\\users\\gayatri\\anaconda3\\lib\\site-packages (from google-api-core[grpc]!=2.0.*,!=2.1.*,!=2.10.*,!=2.2.*,!=2.3.*,!=2.4.*,!=2.5.*,!=2.6.*,!=2.7.*,!=2.8.*,!=2.9.*,<3.0.0dev,>=1.34.0->google-cloud-translate->bardapi) (1.60.0)\n",
      "Requirement already satisfied: grpcio-status<2.0.dev0,>=1.33.2 in c:\\users\\gayatri\\anaconda3\\lib\\site-packages (from google-api-core[grpc]!=2.0.*,!=2.1.*,!=2.10.*,!=2.2.*,!=2.3.*,!=2.4.*,!=2.5.*,!=2.6.*,!=2.7.*,!=2.8.*,!=2.9.*,<3.0.0dev,>=1.34.0->google-cloud-translate->bardapi) (1.60.0)\n",
      "Requirement already satisfied: hyperframe<7,>=6.0 in c:\\users\\gayatri\\anaconda3\\lib\\site-packages (from h2<5,>=3->httpx[http2]>=0.20.0->bardapi) (6.0.1)\n",
      "Requirement already satisfied: hpack<5,>=4.0 in c:\\users\\gayatri\\anaconda3\\lib\\site-packages (from h2<5,>=3->httpx[http2]>=0.20.0->bardapi) (4.0.0)\n",
      "Requirement already satisfied: cachetools<6.0,>=2.0.0 in c:\\users\\gayatri\\anaconda3\\lib\\site-packages (from google-auth<3.0.dev0,>=2.14.1->google-api-core[grpc]!=2.0.*,!=2.1.*,!=2.10.*,!=2.2.*,!=2.3.*,!=2.4.*,!=2.5.*,!=2.6.*,!=2.7.*,!=2.8.*,!=2.9.*,<3.0.0dev,>=1.34.0->google-cloud-translate->bardapi) (5.3.2)\n",
      "Requirement already satisfied: pyasn1-modules>=0.2.1 in c:\\users\\gayatri\\anaconda3\\lib\\site-packages (from google-auth<3.0.dev0,>=2.14.1->google-api-core[grpc]!=2.0.*,!=2.1.*,!=2.10.*,!=2.2.*,!=2.3.*,!=2.4.*,!=2.5.*,!=2.6.*,!=2.7.*,!=2.8.*,!=2.9.*,<3.0.0dev,>=1.34.0->google-cloud-translate->bardapi) (0.2.8)\n",
      "Requirement already satisfied: rsa<5,>=3.1.4 in c:\\users\\gayatri\\anaconda3\\lib\\site-packages (from google-auth<3.0.dev0,>=2.14.1->google-api-core[grpc]!=2.0.*,!=2.1.*,!=2.10.*,!=2.2.*,!=2.3.*,!=2.4.*,!=2.5.*,!=2.6.*,!=2.7.*,!=2.8.*,!=2.9.*,<3.0.0dev,>=1.34.0->google-cloud-translate->bardapi) (4.9)\n",
      "Requirement already satisfied: pyasn1<0.5.0,>=0.4.6 in c:\\users\\gayatri\\anaconda3\\lib\\site-packages (from pyasn1-modules>=0.2.1->google-auth<3.0.dev0,>=2.14.1->google-api-core[grpc]!=2.0.*,!=2.1.*,!=2.10.*,!=2.2.*,!=2.3.*,!=2.4.*,!=2.5.*,!=2.6.*,!=2.7.*,!=2.8.*,!=2.9.*,<3.0.0dev,>=1.34.0->google-cloud-translate->bardapi) (0.4.8)\n",
      "Note: you may need to restart the kernel to use updated packages.\n"
     ]
    }
   ],
   "source": [
    " pip install bardapi"
   ]
  },
  {
   "cell_type": "code",
   "execution_count": 1,
   "id": "280859b5",
   "metadata": {},
   "outputs": [],
   "source": [
    " _BARD_API_KEY='your_cookie_value'"
   ]
  },
  {
   "cell_type": "code",
   "execution_count": 2,
   "id": "f931a878",
   "metadata": {},
   "outputs": [],
   "source": [
    "import os\n",
    "os.environ[\"PROTOCOL_BUFFERS_PYTHON_IMPLEMENTATION\"] = \"python\""
   ]
  },
  {
   "cell_type": "code",
   "execution_count": 3,
   "id": "95a9ef27",
   "metadata": {},
   "outputs": [],
   "source": [
    "from bardapi import Bard\n",
    "from dotenv import load_dotenv\n",
    "load_dotenv()\n",
    " \n",
    "def call_bard(query):\n",
    "    bard = Bard()\n",
    "    answer = bard.get_answer(query)\n",
    "    return (answer['content'])"
   ]
  },
  {
   "cell_type": "code",
   "execution_count": 4,
   "id": "7c5f3f42",
   "metadata": {},
   "outputs": [
    {
     "name": "stdout",
     "output_type": "stream",
     "text": [
      "It really depends on your mood and what genre you prefer. Here are some ideas:\n",
      "\n",
      "\n",
      "* If you're in the mood for a good comedy, you could try \"Knives Out\" (2019). It's a hilarious whodunit with an all-star cast, including Daniel Craig, Chris Evans, and Ana de Armas.\n",
      "[Image of Knives Out (2019) movie poster]\n",
      "* If you're looking for something more action-packed, you could check out \"Mad Max: Fury Road\" (2015). It's a visually stunning post-apocalyptic thriller with incredible stunts and performances by Charlize Theron and Tom Hardy.\n",
      "[Image of Mad Max: Fury Road (2015) movie poster]\n",
      "* If you're in the mood for a heartwarming story, you could try \"The Princess Bride\" (1987). It's a classic fairy tale with a great sense of humor and a cast of lovable characters.\n",
      "[Image of The Princess Bride (1987) movie poster]\n",
      "* If you're looking for something a little more thought-provoking, you could try \"Parasite\" (2019). It's a Korean dark comedy thriller that's both funny and suspenseful.\n",
      "[Image of Parasite (2019) movie poster]\n",
      "* If you're a fan of foreign films, you could try \"Amelie\" (2001). It's a French romantic comedy with a quirky charm and a beautiful soundtrack.\n",
      "[Image of Amelie (2001) movie poster]\n",
      "\n",
      "\n",
      "I hope this gives you some ideas! Let me know if you have any other questions.\n"
     ]
    }
   ],
   "source": [
    "from bardapi import Bard\n",
    "from dotenv import load_dotenv\n",
    "\n",
    "load_dotenv()\n",
    "\n",
    "def call_bard(query):\n",
    "    # Replace 'YOUR_API_KEY' with your actual Bard API key\n",
    "    bard = Bard(token='your_cookie_value')\n",
    "    answer = bard.get_answer(query)\n",
    "    return answer['content']\n",
    "\n",
    "# Example usage\n",
    "response = call_bard(\"What movie would you recommend?\")\n",
    "print(response)\n"
   ]
  },
  {
   "cell_type": "code",
   "execution_count": 5,
   "id": "8554fb74",
   "metadata": {},
   "outputs": [
    {
     "name": "stdout",
     "output_type": "stream",
     "text": [
      "That's a fantastic scene! I can just imagine John, bat held high, watching the ball sail over the fence as his friends erupt in cheers. The sun glints off the green grass and the laughter echoes through the air. Here are a few images that capture the excitement of the moment:\n",
      "\n",
      "\n",
      "\n",
      "\n",
      "\n",
      "\n",
      "\n",
      "No matter how you picture it, John's home run is sure to be a memory he'll cherish for years to come. It's the kind of moment that makes playing baseball so special – the feeling of accomplishment, the shared joy with friends, and the pure exhilaration of hitting the ball out of the park.\n",
      "\n",
      "What did John do after his home run? Did he run around the bases high-fiving his friends? Did they all celebrate with a victory dance? The possibilities are endless!\n"
     ]
    }
   ],
   "source": [
    "from bardapi import Bard\n",
    "from dotenv import load_dotenv\n",
    "\n",
    "load_dotenv()\n",
    "\n",
    "def summarizer(query):\n",
    "    # Replace 'YOUR_API_KEY' with your actual Bard API key\n",
    "    bard = Bard(token='fyour_cookie_value')\n",
    "    answer = bard.get_answer(query)\n",
    "    return answer['content']\n",
    "\n",
    "# Example usage\n",
    "summary = summarizer(\"On a sunny day, John went to the park to play baseball with his friends. He hit a home run and everyone cheered.\")\n",
    "print(summary)\n"
   ]
  },
  {
   "cell_type": "code",
   "execution_count": 6,
   "id": "a49ddfd3",
   "metadata": {},
   "outputs": [
    {
     "name": "stdout",
     "output_type": "stream",
     "text": [
      "Requirement already satisfied: googletrans in c:\\users\\gayatri\\anaconda3\\lib\\site-packages (4.0.0rc1)\n",
      "Requirement already satisfied: httpx==0.13.3 in c:\\users\\gayatri\\anaconda3\\lib\\site-packages (from googletrans) (0.13.3)\n",
      "Requirement already satisfied: certifi in c:\\users\\gayatri\\anaconda3\\lib\\site-packages (from httpx==0.13.3->googletrans) (2023.7.22)\n",
      "Requirement already satisfied: hstspreload in c:\\users\\gayatri\\anaconda3\\lib\\site-packages (from httpx==0.13.3->googletrans) (2023.1.1)\n",
      "Requirement already satisfied: sniffio in c:\\users\\gayatri\\anaconda3\\lib\\site-packages (from httpx==0.13.3->googletrans) (1.2.0)\n",
      "Requirement already satisfied: chardet==3.* in c:\\users\\gayatri\\anaconda3\\lib\\site-packages (from httpx==0.13.3->googletrans) (3.0.4)\n",
      "Requirement already satisfied: idna==2.* in c:\\users\\gayatri\\anaconda3\\lib\\site-packages (from httpx==0.13.3->googletrans) (2.10)\n",
      "Requirement already satisfied: rfc3986<2,>=1.3 in c:\\users\\gayatri\\anaconda3\\lib\\site-packages (from httpx==0.13.3->googletrans) (1.5.0)\n",
      "Requirement already satisfied: httpcore==0.9.* in c:\\users\\gayatri\\anaconda3\\lib\\site-packages (from httpx==0.13.3->googletrans) (0.9.1)\n",
      "Requirement already satisfied: h11<0.10,>=0.8 in c:\\users\\gayatri\\anaconda3\\lib\\site-packages (from httpcore==0.9.*->httpx==0.13.3->googletrans) (0.9.0)\n",
      "Requirement already satisfied: h2==3.* in c:\\users\\gayatri\\anaconda3\\lib\\site-packages (from httpcore==0.9.*->httpx==0.13.3->googletrans) (3.2.0)\n",
      "Requirement already satisfied: hyperframe<6,>=5.2.0 in c:\\users\\gayatri\\anaconda3\\lib\\site-packages (from h2==3.*->httpcore==0.9.*->httpx==0.13.3->googletrans) (5.2.0)\n",
      "Requirement already satisfied: hpack<4,>=3.0 in c:\\users\\gayatri\\anaconda3\\lib\\site-packages (from h2==3.*->httpcore==0.9.*->httpx==0.13.3->googletrans) (3.0.0)\n",
      "Note: you may need to restart the kernel to use updated packages.\n"
     ]
    }
   ],
   "source": [
    "pip install googletrans"
   ]
  },
  {
   "cell_type": "code",
   "execution_count": 10,
   "id": "ef9bfdc5",
   "metadata": {},
   "outputs": [
    {
     "name": "stdout",
     "output_type": "stream",
     "text": [
      "Requirement already satisfied: httpcore in c:\\users\\gayatri\\anaconda3\\lib\\site-packages (0.9.1)\n",
      "Collecting httpcore\n",
      "  Obtaining dependency information for httpcore from https://files.pythonhosted.org/packages/56/ba/78b0a99c4da0ff8b0f59defa2f13ca4668189b134bd9840b6202a93d9a0f/httpcore-1.0.2-py3-none-any.whl.metadata\n",
      "  Using cached httpcore-1.0.2-py3-none-any.whl.metadata (20 kB)\n",
      "Requirement already satisfied: certifi in c:\\users\\gayatri\\anaconda3\\lib\\site-packages (from httpcore) (2023.7.22)\n",
      "Collecting h11<0.15,>=0.13 (from httpcore)\n",
      "  Using cached h11-0.14.0-py3-none-any.whl (58 kB)\n",
      "Using cached httpcore-1.0.2-py3-none-any.whl (76 kB)\n",
      "Installing collected packages: h11, httpcore\n",
      "  Attempting uninstall: h11\n",
      "    Found existing installation: h11 0.9.0\n",
      "    Uninstalling h11-0.9.0:\n",
      "      Successfully uninstalled h11-0.9.0\n",
      "  Attempting uninstall: httpcore\n",
      "    Found existing installation: httpcore 0.9.1\n",
      "    Uninstalling httpcore-0.9.1:\n",
      "      Successfully uninstalled httpcore-0.9.1\n",
      "Successfully installed h11-0.14.0 httpcore-1.0.2\n",
      "Note: you may need to restart the kernel to use updated packages.\n"
     ]
    },
    {
     "name": "stderr",
     "output_type": "stream",
     "text": [
      "ERROR: pip's dependency resolver does not currently take into account all the packages that are installed. This behaviour is the source of the following dependency conflicts.\n",
      "httpx 0.13.3 requires httpcore==0.9.*, but you have httpcore 1.0.2 which is incompatible.\n"
     ]
    }
   ],
   "source": [
    "pip install --upgrade httpcore\n"
   ]
  },
  {
   "cell_type": "code",
   "execution_count": 11,
   "id": "4c63ffd4",
   "metadata": {},
   "outputs": [
    {
     "name": "stdout",
     "output_type": "stream",
     "text": [
      "Collecting googletrans==4.0.0-rc1\n",
      "  Downloading googletrans-4.0.0rc1.tar.gz (20 kB)\n",
      "  Preparing metadata (setup.py): started\n",
      "  Preparing metadata (setup.py): finished with status 'done'\n",
      "Requirement already satisfied: httpx==0.13.3 in c:\\users\\gayatri\\anaconda3\\lib\\site-packages (from googletrans==4.0.0-rc1) (0.13.3)\n",
      "Requirement already satisfied: certifi in c:\\users\\gayatri\\anaconda3\\lib\\site-packages (from httpx==0.13.3->googletrans==4.0.0-rc1) (2023.7.22)\n",
      "Requirement already satisfied: hstspreload in c:\\users\\gayatri\\anaconda3\\lib\\site-packages (from httpx==0.13.3->googletrans==4.0.0-rc1) (2023.1.1)\n",
      "Requirement already satisfied: sniffio in c:\\users\\gayatri\\anaconda3\\lib\\site-packages (from httpx==0.13.3->googletrans==4.0.0-rc1) (1.2.0)\n",
      "Requirement already satisfied: chardet==3.* in c:\\users\\gayatri\\anaconda3\\lib\\site-packages (from httpx==0.13.3->googletrans==4.0.0-rc1) (3.0.4)\n",
      "Requirement already satisfied: idna==2.* in c:\\users\\gayatri\\anaconda3\\lib\\site-packages (from httpx==0.13.3->googletrans==4.0.0-rc1) (2.10)\n",
      "Requirement already satisfied: rfc3986<2,>=1.3 in c:\\users\\gayatri\\anaconda3\\lib\\site-packages (from httpx==0.13.3->googletrans==4.0.0-rc1) (1.5.0)\n",
      "Collecting httpcore==0.9.* (from httpx==0.13.3->googletrans==4.0.0-rc1)\n",
      "  Using cached httpcore-0.9.1-py3-none-any.whl (42 kB)\n",
      "Collecting h11<0.10,>=0.8 (from httpcore==0.9.*->httpx==0.13.3->googletrans==4.0.0-rc1)\n",
      "  Using cached h11-0.9.0-py2.py3-none-any.whl (53 kB)\n",
      "Requirement already satisfied: h2==3.* in c:\\users\\gayatri\\anaconda3\\lib\\site-packages (from httpcore==0.9.*->httpx==0.13.3->googletrans==4.0.0-rc1) (3.2.0)\n",
      "Requirement already satisfied: hyperframe<6,>=5.2.0 in c:\\users\\gayatri\\anaconda3\\lib\\site-packages (from h2==3.*->httpcore==0.9.*->httpx==0.13.3->googletrans==4.0.0-rc1) (5.2.0)\n",
      "Requirement already satisfied: hpack<4,>=3.0 in c:\\users\\gayatri\\anaconda3\\lib\\site-packages (from h2==3.*->httpcore==0.9.*->httpx==0.13.3->googletrans==4.0.0-rc1) (3.0.0)\n",
      "Building wheels for collected packages: googletrans\n",
      "  Building wheel for googletrans (setup.py): started\n",
      "  Building wheel for googletrans (setup.py): finished with status 'done'\n",
      "  Created wheel for googletrans: filename=googletrans-4.0.0rc1-py3-none-any.whl size=17461 sha256=3f6d7a3ab27c39d1fa328ee392b10f33c6345e6a3b26cb58bfb369e5989c0fd1\n",
      "  Stored in directory: c:\\users\\gayatri\\appdata\\local\\pip\\cache\\wheels\\39\\17\\6f\\66a045ea3d168826074691b4b787b8f324d3f646d755443fda\n",
      "Successfully built googletrans\n",
      "Installing collected packages: h11, httpcore, googletrans\n",
      "  Attempting uninstall: h11\n",
      "    Found existing installation: h11 0.14.0\n",
      "    Uninstalling h11-0.14.0:\n",
      "      Successfully uninstalled h11-0.14.0\n",
      "  Attempting uninstall: httpcore\n",
      "    Found existing installation: httpcore 1.0.2\n",
      "    Uninstalling httpcore-1.0.2:\n",
      "      Successfully uninstalled httpcore-1.0.2\n",
      "  Attempting uninstall: googletrans\n",
      "    Found existing installation: googletrans 3.0.0\n",
      "    Uninstalling googletrans-3.0.0:\n",
      "      Successfully uninstalled googletrans-3.0.0\n",
      "Successfully installed googletrans-4.0.0rc1 h11-0.9.0 httpcore-0.9.1\n",
      "Note: you may need to restart the kernel to use updated packages.\n"
     ]
    }
   ],
   "source": [
    "pip install googletrans==4.0.0-rc1\n"
   ]
  },
  {
   "cell_type": "code",
   "execution_count": 10,
   "id": "34721b21",
   "metadata": {},
   "outputs": [
    {
     "name": "stdout",
     "output_type": "stream",
     "text": [
      "Good morning!I'm fine, thank you for the question.I am excited to be able to speak French with you today.\r\n",
      "\r\n",
      "And you? How are you ?\n"
     ]
    }
   ],
   "source": [
    "from googletrans import Translator\n",
    "from bardapi.core import Bard\n",
    "\n",
    "def bard_translator(input_text, token, target_language='en'):\n",
    "    # Create a Bard instance with the provided API key\n",
    "    bard = Bard(token=token)\n",
    "\n",
    "    # Get a response from Bard-API\n",
    "    response = bard.get_answer(input_text)\n",
    "\n",
    "    # Extract the content from the response\n",
    "    bard_content = response['content']\n",
    "\n",
    "    # Create a Translator object\n",
    "    translator = Translator()\n",
    "\n",
    "    # Translate the content using Googletrans\n",
    "    translation = translator.translate(bard_content, dest=target_language)\n",
    "\n",
    "    return translation.text\n",
    "\n",
    "# Example usage with your Bard API key\n",
    "api_key = 'your_cookie_value'\n",
    "input_text = '''Bonjour, comment vas-tu?'''\n",
    "translated_text = bard_translator(input_text, token=api_key, target_language='en')\n",
    "\n",
    "print(translated_text)\n"
   ]
  },
  {
   "cell_type": "code",
   "execution_count": 11,
   "id": "9b159632",
   "metadata": {},
   "outputs": [
    {
     "name": "stdout",
     "output_type": "stream",
     "text": [
      "The capital of France is **Paris**, a vibrant city known for its iconic landmarks like the Eiffel Tower and the Louvre Museum. It's also a major center for fashion, culture, and gastronomy.\n",
      "\n",
      "Is there anything else you'd like to know about Paris or France? I'm happy to share more information or answer any questions you have.\n",
      "\n"
     ]
    }
   ],
   "source": [
    "from bardapi import Bard\n",
    "from dotenv import load_dotenv\n",
    "\n",
    "load_dotenv()\n",
    "\n",
    "def retriever(query):\n",
    "    \n",
    "    bard = Bard(token='your_cookie_value')\n",
    "    answer = bard.get_answer(query)\n",
    "    return answer['content']\n",
    "\n",
    "# Example usage\n",
    "input_query = retriever('What is the capital of France?')\n",
    "print(input_query)\n"
   ]
  },
  {
   "cell_type": "code",
   "execution_count": null,
   "id": "55a95ce0",
   "metadata": {},
   "outputs": [],
   "source": []
  },
  {
   "cell_type": "code",
   "execution_count": null,
   "id": "f8d738dc",
   "metadata": {},
   "outputs": [],
   "source": []
  }
 ],
 "metadata": {
  "kernelspec": {
   "display_name": "Python 3 (ipykernel)",
   "language": "python",
   "name": "python3"
  },
  "language_info": {
   "codemirror_mode": {
    "name": "ipython",
    "version": 3
   },
   "file_extension": ".py",
   "mimetype": "text/x-python",
   "name": "python",
   "nbconvert_exporter": "python",
   "pygments_lexer": "ipython3",
   "version": "3.11.5"
  }
 },
 "nbformat": 4,
 "nbformat_minor": 5
}
